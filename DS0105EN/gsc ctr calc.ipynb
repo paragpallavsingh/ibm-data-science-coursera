{
 "cells": [
  {
   "cell_type": "code",
   "execution_count": 1,
   "id": "0b417bb3-0273-4b4c-8c0f-76b2df812fd2",
   "metadata": {},
   "outputs": [],
   "source": [
    "import pandas as pd \n",
    "import numpy as np"
   ]
  },
  {
   "cell_type": "code",
   "execution_count": 2,
   "id": "6f152b95-6c11-48f0-85aa-33b6cb4b37a3",
   "metadata": {},
   "outputs": [],
   "source": [
    "df = pd.read_csv(\"Queries.csv\")\n"
   ]
  },
  {
   "cell_type": "code",
   "execution_count": 3,
   "id": "39cdf8ec-a016-4846-9409-8d4f51695ba9",
   "metadata": {},
   "outputs": [],
   "source": [
    "x = 1\n",
    "y = 9\n",
    "d = {'Position': [], 'Sum Clicks': [], 'Sum Impressions':[], 'Avg CTR':[],'Min CTR':[],'Max CTR':[],'Max CTR KW':[]}\n",
    "df2 = pd.DataFrame(data=d)"
   ]
  },
  {
   "cell_type": "code",
   "execution_count": null,
   "id": "bd016543-2aad-4056-9b8d-cd3b172d233d",
   "metadata": {},
   "outputs": [],
   "source": [
    "while x < y:\n",
    "  df1 = df[(df['Position'] >=x) & (df['Position'] < x+1)]\n",
    "  df1 = df1.sort_values('CTR',ascending=False)\n",
    "  df1['CTR'] = df1['CTR'].str.replace('%','')\n",
    "  df1['CTR'] = df1['CTR'].astype(np.float16)"
   ]
  },
  {
   "cell_type": "code",
   "execution_count": null,
   "id": "5646a06f-8ee7-41e9-b72c-f9dda490ab56",
   "metadata": {},
   "outputs": [],
   "source": [
    "try:\n",
    "  ctr = int(df1['CTR'].mean())\n",
    "  ctr_min = int(df1['CTR'].min())\n",
    "  ctr_max = int(df1['CTR'].max())\n",
    "  ctr_max_kw = df1.iloc[0]['Top queries']\n",
    "  clicks = int(df1['Clicks'].sum())\n",
    "  impressions = int(df1['Impressions'].sum())"
   ]
  },
  {
   "cell_type": "code",
   "execution_count": null,
   "id": "5dd109e3-4bf4-4b5d-b2e2-af6550833649",
   "metadata": {},
   "outputs": [],
   "source": [
    "df2['Avg CTR'] = df2['Avg CTR'].astype(int)\n",
    "df2['Min CTR'] = df2['Min CTR'].astype(int)\n",
    "df2['Max CTR'] = df2['Max CTR'].astype(int)\n",
    "df2['Position'] = df2['Position'].astype(int) \n",
    "df2['Sum Clicks'] = df2['Sum Clicks'].astype(int) \n",
    "df2['Sum Impressions'] = df2['Sum Impressions'].astype(int)"
   ]
  },
  {
   "cell_type": "code",
   "execution_count": null,
   "id": "b37a1265-61fd-4c15-bdd1-d1bc9a3b5c50",
   "metadata": {},
   "outputs": [],
   "source": [
    "except: \n",
    "  pass \n",
    "x += 1"
   ]
  },
  {
   "cell_type": "code",
   "execution_count": null,
   "id": "3d8e1f7e-88c7-48b4-acee-175bfef03c23",
   "metadata": {},
   "outputs": [],
   "source": [
    "data = {'Position': int((x)),'Sum Clicks':clicks,'Sum Impressions':impressions,'Avg CTR':ctr,'Min CTR':ctr_min,'Max CTR':ctr_max,'Max CTR KW':ctr_max_kw}\n",
    "   df2 = df2.append(data, ignore_index=True)"
   ]
  },
  {
   "cell_type": "code",
   "execution_count": null,
   "id": "de73f010-a3d0-4eb9-ad89-0c15a5c01f64",
   "metadata": {},
   "outputs": [],
   "source": [
    "df2 = df2.astype(str) \n",
    "df2['Avg CTR'] = df2['Avg CTR'].apply(lambda x: x + \"%\") \n",
    "df2['Min CTR'] = df2['Min CTR'].apply(lambda x: x + \"%\") \n",
    "df2['Max CTR'] = df2['Max CTR'].apply(lambda x: x + \"%\")\n",
    "df2"
   ]
  },
  {
   "cell_type": "code",
   "execution_count": null,
   "id": "5f95e502-39cc-483d-8feb-3e2c7ed9f21e",
   "metadata": {},
   "outputs": [],
   "source": [
    "df2"
   ]
  },
  {
   "cell_type": "code",
   "execution_count": null,
   "id": "8561840a-216e-4894-8b46-14c2d2f88b84",
   "metadata": {},
   "outputs": [],
   "source": []
  }
 ],
 "metadata": {
  "kernelspec": {
   "display_name": "Python",
   "language": "python",
   "name": "conda-env-python-py"
  },
  "language_info": {
   "codemirror_mode": {
    "name": "ipython",
    "version": 3
   },
   "file_extension": ".py",
   "mimetype": "text/x-python",
   "name": "python",
   "nbconvert_exporter": "python",
   "pygments_lexer": "ipython3",
   "version": "3.7.10"
  }
 },
 "nbformat": 4,
 "nbformat_minor": 5
}
